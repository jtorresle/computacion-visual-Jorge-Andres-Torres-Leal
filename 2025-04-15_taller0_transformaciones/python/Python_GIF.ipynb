{
  "nbformat": 4,
  "nbformat_minor": 0,
  "metadata": {
    "colab": {
      "provenance": []
    },
    "kernelspec": {
      "name": "python3",
      "display_name": "Python 3"
    },
    "language_info": {
      "name": "python"
    }
  },
  "cells": [
    {
      "cell_type": "code",
      "execution_count": 2,
      "metadata": {
        "colab": {
          "base_uri": "https://localhost:8080/"
        },
        "id": "_nn_8yoykpkU",
        "outputId": "dec0423f-8ca8-4833-8c93-2311ddcaa5fd"
      },
      "outputs": [
        {
          "output_type": "stream",
          "name": "stderr",
          "text": [
            "<ipython-input-2-4fe4af9735a3>:88: UserWarning: Glyph 9 (\t) missing from font(s) DejaVu Sans Mono.\n",
            "  plt.savefig(filename)\n",
            "<ipython-input-2-4fe4af9735a3>:89: DeprecationWarning: Starting with ImageIO v3 the behavior of this function will switch to that of iio.v3.imread. To keep the current behavior (and make this warning disappear) use `import imageio.v2 as imageio` or call `imageio.v2.imread` directly.\n",
            "  frames.append(imageio.imread(filename))\n"
          ]
        },
        {
          "output_type": "stream",
          "name": "stdout",
          "text": [
            "✅ Animación generada: animacion_transformaciones.gif\n"
          ]
        }
      ],
      "source": [
        "import numpy as np\n",
        "import matplotlib.pyplot as plt\n",
        "import imageio\n",
        "import os\n",
        "\n",
        "# Crear carpeta temporal para guardar frames\n",
        "os.makedirs(\"frames\", exist_ok=True)\n",
        "\n",
        "# Definimos una figura: un triángulo equilátero\n",
        "triangle = np.array([\n",
        "    [0, 0],\n",
        "    [1, 0],\n",
        "    [0.5, np.sqrt(3)/2],\n",
        "    [0, 0]  # Para cerrar el triángulo\n",
        "]).T  # Transponemos para que las columnas sean puntos (2 x N)\n",
        "\n",
        "# Funciones de matrices de transformación\n",
        "def translation_matrix(tx, ty):\n",
        "    return np.array([\n",
        "        [1, 0, tx],\n",
        "        [0, 1, ty],\n",
        "        [0, 0, 1]\n",
        "    ])\n",
        "\n",
        "def rotation_matrix(theta):\n",
        "    return np.array([\n",
        "        [np.cos(theta), -np.sin(theta), 0],\n",
        "        [np.sin(theta),  np.cos(theta), 0],\n",
        "        [0, 0, 1]\n",
        "    ])\n",
        "\n",
        "def scaling_matrix(sx, sy):\n",
        "    return np.array([\n",
        "        [sx, 0, 0],\n",
        "        [0, sy, 0],\n",
        "        [0, 0, 1]\n",
        "    ])\n",
        "\n",
        "# Convertir puntos a coordenadas homogéneas (3 x N)\n",
        "def to_homogeneous(points):\n",
        "    return np.vstack([points, np.ones((1, points.shape[1]))])\n",
        "\n",
        "# Volver de homogéneas a 2D\n",
        "def from_homogeneous(points_h):\n",
        "    return points_h[:2, :] / points_h[2, :]\n",
        "\n",
        "# Generar animación\n",
        "frames = []\n",
        "num_frames = 60\n",
        "for t in range(num_frames):\n",
        "    # Normalizar t a [0, 1]\n",
        "    tt = t / num_frames\n",
        "\n",
        "    # Parámetros de transformación\n",
        "    tx = 2 * np.sin(2 * np.pi * tt)\n",
        "    ty = 2 * np.cos(2 * np.pi * tt)\n",
        "    theta = 2 * np.pi * tt  # rotación completa\n",
        "    sx = 1 + 0.5 * np.sin(2 * np.pi * tt)\n",
        "    sy = 1 + 0.5 * np.cos(2 * np.pi * tt)\n",
        "\n",
        "    # Crear matrices\n",
        "    T = translation_matrix(tx, ty)\n",
        "    R = rotation_matrix(theta)\n",
        "    S = scaling_matrix(sx, sy)\n",
        "\n",
        "    # Matriz combinada: T * R * S\n",
        "    M = T @ R @ S\n",
        "\n",
        "    # Aplicar transformación\n",
        "    transformed = M @ to_homogeneous(triangle)\n",
        "    transformed = from_homogeneous(transformed)\n",
        "\n",
        "    # Plot\n",
        "    fig, ax = plt.subplots()\n",
        "    ax.plot(*transformed, 'bo-')\n",
        "    ax.set_xlim(-4, 4)\n",
        "    ax.set_ylim(-4, 4)\n",
        "    ax.set_aspect('equal')\n",
        "    ax.set_title(f'Frame {t+1}')\n",
        "\n",
        "    # Mostrar matriz (opcional)\n",
        "    matrix_text = \"\\n\".join([\"\\t\".join([f\"{val:.2f}\" for val in row]) for row in M])\n",
        "    ax.text(-3.5, 3, f\"Matriz de transformación:\\n{matrix_text}\", fontsize=8,\n",
        "            family='monospace', bbox=dict(boxstyle=\"round,pad=0.3\", facecolor='white', alpha=0.5))\n",
        "\n",
        "    # Guardar frame\n",
        "    filename = f\"frames/frame_{t:03d}.png\"\n",
        "    plt.savefig(filename)\n",
        "    frames.append(imageio.imread(filename))\n",
        "    plt.close()\n",
        "\n",
        "# Guardar como GIF\n",
        "imageio.mimsave(\"animacion_transformaciones.gif\", frames, duration=0.05)\n",
        "\n",
        "# Limpiar (opcional)\n",
        "# import shutil\n",
        "# shutil.rmtree(\"frames\")\n",
        "\n",
        "print(\"✅ Animación generada: animacion_transformaciones.gif\")\n"
      ]
    }
  ]
}